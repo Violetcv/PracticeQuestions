{
  "nbformat": 4,
  "nbformat_minor": 0,
  "metadata": {
    "colab": {
      "provenance": []
    },
    "kernelspec": {
      "name": "python3",
      "display_name": "Python 3"
    },
    "language_info": {
      "name": "python"
    }
  },
  "cells": [
    {
      "cell_type": "code",
      "execution_count": 2,
      "metadata": {
        "colab": {
          "base_uri": "https://localhost:8080/"
        },
        "id": "GemfFTLjQi3X",
        "outputId": "ace325a5-726c-4a3e-b4da-0b6c698b9a35"
      },
      "outputs": [
        {
          "output_type": "stream",
          "name": "stdout",
          "text": [
            "Enter x:1\n",
            "Enter y:1\n",
            "Answer is: 3\n"
          ]
        }
      ],
      "source": [
        "#Ques 1\n",
        "x = input(\"Enter x:\");\n",
        "y = input(\"Enter y:\");\n",
        "\n",
        "x=int(x)\n",
        "y=int(y)\n",
        "\n",
        "answer = x**y + 2*x**(3*y)\n",
        "\n",
        "print(\"Answer is:\",answer)\n"
      ]
    },
    {
      "cell_type": "code",
      "source": [
        "#Ques 2 (i)(a)\n",
        "x = input(\"Enter x:\")\n",
        "y = input(\"Enter y:\")\n",
        "\n",
        "int(x),int(y)\n",
        "\n",
        "x,y = y,x\n",
        "\n",
        "print(\"Value of x:\",x)\n",
        "print(\"Value of y:\",y)"
      ],
      "metadata": {
        "colab": {
          "base_uri": "https://localhost:8080/"
        },
        "id": "KExWcyW9QxvT",
        "outputId": "2c2a8e36-18aa-4dd0-bf71-b8a2f32fbf9f"
      },
      "execution_count": 8,
      "outputs": [
        {
          "output_type": "stream",
          "name": "stdout",
          "text": [
            "Enter x:3\n",
            "Enter y:6\n",
            "Value of x: 6\n",
            "Value of y: 3\n"
          ]
        }
      ]
    },
    {
      "cell_type": "code",
      "source": [
        "#Ques 2 (i)(b)\n",
        "x = input(\"Enter x:\");\n",
        "y = input(\"Enter y:\");\n",
        "\n",
        "x=int(x)\n",
        "y=int(y)\n",
        "\n",
        "x = y + x\n",
        "y = x - y\n",
        "x = x - y\n",
        "\n",
        "print(\"Value of x:\",x)\n",
        "print(\"Value of y:\",y)"
      ],
      "metadata": {
        "colab": {
          "base_uri": "https://localhost:8080/"
        },
        "id": "9TqrGlbWRQgX",
        "outputId": "1d8f1250-b92b-431e-c389-80fa491d4206"
      },
      "execution_count": 6,
      "outputs": [
        {
          "output_type": "stream",
          "name": "stdout",
          "text": [
            "Enter x:4\n",
            "Enter y:6\n",
            "Value of x: 6\n",
            "Value of y: 4\n"
          ]
        }
      ]
    },
    {
      "cell_type": "code",
      "source": [
        "#Ques 2 (ii)\n",
        "x = input(\"Enter x:\");\n",
        "y = input(\"Enter y:\");\n",
        "\n",
        "int(x),int(y)\n",
        "\n",
        "z = x\n",
        "x = y\n",
        "y = z \n",
        "\n",
        "print(\"Value of x:\",x)\n",
        "print(\"Value of y:\",y)"
      ],
      "metadata": {
        "colab": {
          "base_uri": "https://localhost:8080/"
        },
        "id": "SPQzBUf3RdwS",
        "outputId": "dec0dc15-daf5-470e-df3d-872cbb3679ca"
      },
      "execution_count": 7,
      "outputs": [
        {
          "output_type": "stream",
          "name": "stdout",
          "text": [
            "Enter x:4\n",
            "Enter y:7\n",
            "Value of x: 7\n",
            "Value of y: 4\n"
          ]
        }
      ]
    },
    {
      "cell_type": "code",
      "source": [],
      "metadata": {
        "id": "oiRM59WlRtxt"
      },
      "execution_count": null,
      "outputs": []
    }
  ]
}