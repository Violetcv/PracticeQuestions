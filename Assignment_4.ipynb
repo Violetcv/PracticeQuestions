{
  "nbformat": 4,
  "nbformat_minor": 0,
  "metadata": {
    "colab": {
      "provenance": []
    },
    "kernelspec": {
      "name": "python3",
      "display_name": "Python 3"
    },
    "language_info": {
      "name": "python"
    }
  },
  "cells": [
    {
      "cell_type": "code",
      "execution_count": 13,
      "metadata": {
        "colab": {
          "base_uri": "https://localhost:8080/",
          "height": 0
        },
        "id": "N-nJQ71t_l2v",
        "outputId": "c9a9acff-92c8-4e20-c22b-abddde8a501f"
      },
      "outputs": [
        {
          "output_type": "stream",
          "name": "stdout",
          "text": [
            "Enter the number of students in the class:3\n",
            "Enter student name:chhavi\n",
            "Enter city:delhi\n",
            "Enter Sequence number:19\n",
            "Enter mathematics score:33\n",
            "Enter physics score:44\n",
            "Enter chemistry score:55\n",
            "Enter student name:riya\n",
            "Enter city:pune\n",
            "Enter Sequence number:2\n",
            "Enter mathematics score:11\n",
            "Enter physics score:12\n",
            "Enter chemistry score:23\n",
            "Enter student name:diya\n",
            "Enter city:diu\n",
            "Enter Sequence number:23\n",
            "Enter mathematics score:12\n",
            "Enter physics score:23\n",
            "Enter chemistry score:34\n",
            "[{'Name': 'chhavi', 'City': 'delhi', 'SeqNo': 19, 'Mathematics': 33, 'Physics': 44, 'Chemistry': 55}, {'Name': 'riya', 'City': 'pune', 'SeqNo': 2, 'Mathematics': 11, 'Physics': 12, 'Chemistry': 23}, {'Name': 'diya', 'City': 'diu', 'SeqNo': 23, 'Mathematics': 12, 'Physics': 23, 'Chemistry': 34}]\n"
          ]
        }
      ],
      "source": [
        "n = int(input(\"Enter the number of students in the class:\"))\n",
        "#initialize list\n",
        "scores_dataset = []\n",
        "#loop input\n",
        "for i in range(n):\n",
        "  name = input(\"Enter student name:\")\n",
        "  city = input(\"Enter city:\")\n",
        "  seqNo = int(input(\"Enter Sequence number:\"))\n",
        "  mathematics = int(input(\"Enter mathematics score:\"))\n",
        "  physics = int(input(\"Enter physics score:\"))\n",
        "  chemistry = int(input(\"Enter chemistry score:\"))\n",
        "  #make the dictionary\n",
        "  student_details = {\n",
        "    \"Name\": name,\n",
        "    \"City\": city,\n",
        "    \"SeqNo\": seqNo,\n",
        "    \"Mathematics\": mathematics,\n",
        "    \"Physics\": physics,\n",
        "    \"Chemistry\": chemistry\n",
        "  } \n",
        "  #append dictionary into list\n",
        "  scores_dataset.append(student_details)\n",
        "\n",
        "print(scores_dataset)"
      ]
    },
    {
      "cell_type": "code",
      "source": [
        "#create funtion\n",
        "def get_marks(scores_dataset, subject):\n",
        "  marks = []\n",
        "  for student in scores_dataset:\n",
        "    name = student[\"Name\"]\n",
        "    marks_for_subject = student[subject]\n",
        "    #tuple with result\n",
        "    marks.append((name, marks_for_subject))\n",
        "  return marks\n",
        "  \n",
        "#call function\n",
        "marks = get_marks(scores_dataset, \"Mathematics\")\n",
        "\n",
        "print(marks)"
      ],
      "metadata": {
        "colab": {
          "base_uri": "https://localhost:8080/",
          "height": 0
        },
        "id": "Re0pjve6QnTk",
        "outputId": "3de63e1e-57ca-467e-f799-be37236b1b9d"
      },
      "execution_count": 16,
      "outputs": [
        {
          "output_type": "stream",
          "name": "stdout",
          "text": [
            "[('chhavi', 33), ('riya', 11), ('diya', 12)]\n"
          ]
        }
      ]
    },
    {
      "cell_type": "code",
      "source": [
        "#create function\n",
        "def create_dict():\n",
        "  sequence = input(\"Enter a sequence of words: \").split()\n",
        "  real_dict = {}\n",
        "  for word in sequence:\n",
        "    if word[0] not in real_dict:\n",
        "      real_dict[word[0]] = [word]\n",
        "    else:\n",
        "      real_dict[word[0]].append(word)\n",
        "  return real_dict\n",
        "\n",
        "real_dict = create_dict()\n",
        "print(real_dict)\n"
      ],
      "metadata": {
        "colab": {
          "base_uri": "https://localhost:8080/",
          "height": 0
        },
        "id": "xAB9TM5RfSPJ",
        "outputId": "c3120d4a-318e-4d09-9ca1-557673fc0e98"
      },
      "execution_count": 19,
      "outputs": [
        {
          "output_type": "stream",
          "name": "stdout",
          "text": [
            "Enter a sequence of words: apple banana cherry date egg\n",
            "{'a': ['apple'], 'b': ['banana'], 'c': ['cherry'], 'd': ['date'], 'e': ['egg']}\n"
          ]
        }
      ]
    }
  ]
}