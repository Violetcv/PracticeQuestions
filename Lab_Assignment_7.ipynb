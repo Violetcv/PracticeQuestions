{
  "nbformat": 4,
  "nbformat_minor": 0,
  "metadata": {
    "colab": {
      "provenance": []
    },
    "kernelspec": {
      "name": "python3",
      "display_name": "Python 3"
    },
    "language_info": {
      "name": "python"
    }
  },
  "cells": [
    {
      "cell_type": "code",
      "source": [
        "#Q1\n",
        "import csv\n",
        "file=open('abc.csv', 'w')\n",
        "writer=csv.writer(file)\n",
        "fields=['Roll number', 'Name', 'Marks']\n",
        "rows=[['001', 'Aarohi', '9.0'],\n",
        "['002', 'Chhavi', '9.9'],\n",
        "['003', 'Disha', '8.3'],\n",
        "['004', 'Anu', '9.5'],\n",
        "['005', 'Kripa', '7.8'],\n",
        "['006', 'Navneet', '9.1'],\n",
        "['007', 'Bhavna', '7.1'],\n",
        "['008', 'Chanchal', '9.7'],\n",
        "['009', 'Cheshta', '6.5'],\n",
        "['010', 'Manvi', '5.0']]\n",
        "writer.writerows(rows)\n",
        "file.close()\n",
        "\n",
        "#Read csv file; assign to data frame\n",
        "file=open('abc.csv','r')\n",
        "csvreader=csv.reader(file)\n",
        "file.close()\n",
        "import numpy as np\n",
        "import pandas as pd\n",
        "with open('abc.csv','r') as f:\n",
        "  read = csv.reader(f)\n",
        "  df = pd.DataFrame(read,columns = ['RollNo','Name','Marks'],index=None)\n",
        "\n",
        "#Print observation .\n",
        "df1=df.head(6)\n",
        "print(df1)"
      ],
      "metadata": {
        "colab": {
          "base_uri": "https://localhost:8080/"
        },
        "id": "gmRS3O4CJaCz",
        "outputId": "450a7224-8d84-49d2-8b19-d89af968ce80"
      },
      "execution_count": 3,
      "outputs": [
        {
          "output_type": "stream",
          "name": "stdout",
          "text": [
            "  RollNo     Name Marks\n",
            "0    001   Aarohi   9.0\n",
            "1    002   Chhavi   9.9\n",
            "2    003    Disha   8.3\n",
            "3    004      Anu   9.5\n",
            "4    005    Kripa   7.8\n",
            "5    006  Navneet   9.1\n"
          ]
        }
      ]
    },
    {
      "cell_type": "code",
      "source": [
        "#Q2\n",
        "df3=pd.read_csv(r\"abc.csv\", sep=\":\", nrows=2)\n",
        "print(df3)"
      ],
      "metadata": {
        "colab": {
          "base_uri": "https://localhost:8080/"
        },
        "id": "menXqa1TKJzs",
        "outputId": "cfb9ccff-cd46-4c55-b987-27e046dd9005"
      },
      "execution_count": 4,
      "outputs": [
        {
          "output_type": "stream",
          "name": "stdout",
          "text": [
            "   001,Aarohi,9.0\n",
            "0  002,Chhavi,9.9\n",
            "1   003,Disha,8.3\n"
          ]
        }
      ]
    },
    {
      "cell_type": "code",
      "source": [
        "#Q3\n",
        "from pandas._libs.parsers import TextReader\n",
        "f = open(\"abc.txt\", \"w\")\n",
        "f.writelines(\"['Roll number' 'Name' 'Marks'] \\n\"\n",
        "\"['001' 'Aarohi' '9.0'] \\n\"\n",
        "\"['002' 'Chhavi' '9.9'] \\n\"\n",
        "\"['003' 'Diksha' '9.3'] \\n\"\n",
        "\"['004' 'Anushree' '9.5'] \\n\"\n",
        "\"['005' 'Kriti' '7.8'] \\n\"\n",
        "\"['006' 'Navya' '9.1'] \\n\"\n",
        "\"['007' 'Bhavya' '9.1'] \\n\"\n",
        "\"['008' 'Kanchal' '9.7'] \\n\"\n",
        "\"['009' 'Chinti' '9.5'] \\n\"\n",
        "\"['010' 'Manasvi' '2.0'] \\n\")\n",
        "f.close()\n",
        "\n",
        "#Read abc.txt file and assign to df9.\n",
        "f = open(\"abc.txt\", \"r\")\n",
        "read=f.readlines()\n",
        "f.close()\n",
        "\n",
        "import pandas as pd\n",
        "with open('abc.txt','r') as f:\n",
        "  read =f.read()\n",
        "\n",
        "#print(read)\n",
        "df9=pd.read_fwf('abc.txt')\n",
        "#print(df9)\n",
        "\n",
        "#Print first 5 observation and save to data frame df10.\n",
        "df10=pd.read_fwf(r\"abc.txt\",nrows=5)\n",
        "print(df10)\n",
        "\n",
        "#Print last 4 observation and save to data frame df11.\n",
        "df11=pd.read_fwf(r\"abc.txt\",nrows=4)\n",
        "print(df11)\n",
        "\n",
        "#Write df10 to a csv file.\n",
        "df10.to_csv(\"abc.txt\",sep=':')\n",
        "print(df10)"
      ],
      "metadata": {
        "colab": {
          "base_uri": "https://localhost:8080/"
        },
        "id": "YpiOFbUdKe6N",
        "outputId": "387bf1d8-bfce-4849-eae1-1ece0273b827"
      },
      "execution_count": 10,
      "outputs": [
        {
          "output_type": "stream",
          "name": "stdout",
          "text": [
            "   ['Roll number' 'Name' 'Marks']\n",
            "0  ['001'         'Aarohi' '9.0']\n",
            "1  ['002'         'Chhavi' '9.9']\n",
            "2  ['003'         'Diksha' '9.3']\n",
            "3  ['004'       'Anushree' '9.5']\n",
            "4  ['005'          'Kriti' '7.8']\n",
            "   ['Roll number' 'Name' 'Marks']\n",
            "0  ['001'         'Aarohi' '9.0']\n",
            "1  ['002'         'Chhavi' '9.9']\n",
            "2  ['003'         'Diksha' '9.3']\n",
            "3  ['004'       'Anushree' '9.5']\n",
            "   ['Roll number' 'Name' 'Marks']\n",
            "0  ['001'         'Aarohi' '9.0']\n",
            "1  ['002'         'Chhavi' '9.9']\n",
            "2  ['003'         'Diksha' '9.3']\n",
            "3  ['004'       'Anushree' '9.5']\n",
            "4  ['005'          'Kriti' '7.8']\n"
          ]
        }
      ]
    }
  ]
}