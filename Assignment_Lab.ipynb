{
  "nbformat": 4,
  "nbformat_minor": 0,
  "metadata": {
    "colab": {
      "provenance": []
    },
    "kernelspec": {
      "name": "python3",
      "display_name": "Python 3"
    },
    "language_info": {
      "name": "python"
    }
  },
  "cells": [
    {
      "cell_type": "code",
      "source": [
        "\n",
        "#1\n",
        "for i in range(1,6):\n",
        "   print(i)"
      ],
      "metadata": {
        "colab": {
          "base_uri": "https://localhost:8080/"
        },
        "id": "mKCs1oC-KZ6K",
        "outputId": "ff2a1348-f48f-4cbe-a54d-8d3ce8ffdaa6"
      },
      "execution_count": 5,
      "outputs": [
        {
          "output_type": "stream",
          "name": "stdout",
          "text": [
            "1\n",
            "2\n",
            "3\n",
            "4\n",
            "5\n"
          ]
        }
      ]
    },
    {
      "cell_type": "code",
      "source": [
        "#2\n",
        "x = input(\"Enter integer:\")\n",
        "x=int(x)\n",
        "Square = x**2\n",
        "print(\"Square of x is: \" + str(Square))"
      ],
      "metadata": {
        "colab": {
          "base_uri": "https://localhost:8080/"
        },
        "id": "TTOZ7_93Ke9a",
        "outputId": "1be00e6b-7626-4a46-9b1a-0ba45aba8b1d"
      },
      "execution_count": 12,
      "outputs": [
        {
          "output_type": "stream",
          "name": "stdout",
          "text": [
            "Enter integer:2\n",
            "Square of x is: 4\n"
          ]
        }
      ]
    },
    {
      "cell_type": "code",
      "source": [
        "#3\n",
        "x = input(\"Enter x:\")\n",
        "y = input(\"Enter y:\")\n",
        "\n",
        "Sum = int(x) + int(y)\n",
        "\n",
        "print(Sum)"
      ],
      "metadata": {
        "colab": {
          "base_uri": "https://localhost:8080/"
        },
        "id": "cZDEfYy1KfGe",
        "outputId": "9c29f7e9-73c7-4166-a2d7-0edf877642af"
      },
      "execution_count": 8,
      "outputs": [
        {
          "output_type": "stream",
          "name": "stdout",
          "text": [
            "Enter x:2\n",
            "Enter y:2\n",
            "4\n"
          ]
        }
      ]
    },
    {
      "cell_type": "code",
      "source": [
        "#4\n",
        "x=input(\"Enter first word:\")\n",
        "y=input(\"Enter second word:\")\n",
        "print(x,y)"
      ],
      "metadata": {
        "colab": {
          "base_uri": "https://localhost:8080/"
        },
        "id": "BHX6_V3YJGgv",
        "outputId": "54625733-ada4-4f0a-b1a9-7fb219314c3f"
      },
      "execution_count": 3,
      "outputs": [
        {
          "output_type": "stream",
          "name": "stdout",
          "text": [
            "Enter first word:chhavi\n",
            "Enter second word:verma\n",
            "chhavi verma\n"
          ]
        }
      ]
    },
    {
      "cell_type": "code",
      "source": [
        "#5\n",
        "x=input(\"Enter registration number: (format - egDL4CAF1234)\")\n",
        "\n",
        "print(x[0:2])"
      ],
      "metadata": {
        "colab": {
          "base_uri": "https://localhost:8080/"
        },
        "id": "NERgZgHdJtfX",
        "outputId": "f42aa783-fb61-4c1a-efa3-b04af179b830"
      },
      "execution_count": 4,
      "outputs": [
        {
          "output_type": "stream",
          "name": "stdout",
          "text": [
            "Enter registration number: (format - egDL4CAF1234)DL4CAF1234\n",
            "DL\n"
          ]
        }
      ]
    },
    {
      "cell_type": "code",
      "source": [
        "#6\n",
        "x= str(input(\"Enter five digit number:\"))\n",
        "sum=0\n",
        "for i in x:\n",
        "    sum +=int(i)\n",
        "print(sum)"
      ],
      "metadata": {
        "colab": {
          "base_uri": "https://localhost:8080/"
        },
        "id": "v5iFpe64J_6h",
        "outputId": "51ad5e9b-bf3e-4b79-9d34-c8ccc21f17ff"
      },
      "execution_count": 9,
      "outputs": [
        {
          "output_type": "stream",
          "name": "stdout",
          "text": [
            "Enter five digit number:12345\n",
            "15\n"
          ]
        }
      ]
    },
    {
      "cell_type": "code",
      "source": [
        "#7\n",
        "words= input(\"Enter 5 words:\")\n",
        "for word in words:\n",
        "  print(words,\".\")\n",
        "  break"
      ],
      "metadata": {
        "colab": {
          "base_uri": "https://localhost:8080/"
        },
        "id": "0GoadKMHLR2-",
        "outputId": "66fadf72-2a6c-479e-b171-690a9d9ec95f"
      },
      "execution_count": 19,
      "outputs": [
        {
          "output_type": "stream",
          "name": "stdout",
          "text": [
            "Enter 5 words:my name is chhavi verma\n",
            "my name is chhavi verma .\n"
          ]
        }
      ]
    },
    {
      "cell_type": "code",
      "source": [
        "#8\n",
        "x = input(\"Enter date:(ddmmyyyy)\")\n",
        "print(x[4:])"
      ],
      "metadata": {
        "colab": {
          "base_uri": "https://localhost:8080/"
        },
        "id": "ZOV_KNTzLaXh",
        "outputId": "463a8a6c-2c3b-4d7d-f33c-87b881b28dba"
      },
      "execution_count": 15,
      "outputs": [
        {
          "output_type": "stream",
          "name": "stdout",
          "text": [
            "Enter date:(ddmmyyyy)12122011\n",
            "2011\n"
          ]
        }
      ]
    },
    {
      "cell_type": "code",
      "source": [
        "#9\n",
        "x= str(input(\"Enter five digit number:\"))\n",
        "product=1\n",
        "for i in x:\n",
        "    product *=int(i)\n",
        "print(product)"
      ],
      "metadata": {
        "colab": {
          "base_uri": "https://localhost:8080/"
        },
        "id": "fIOVYm26Ld8Z",
        "outputId": "51016820-8167-406f-90cb-1968aa7869d0"
      },
      "execution_count": 11,
      "outputs": [
        {
          "output_type": "stream",
          "name": "stdout",
          "text": [
            "Enter five digit number:12311\n",
            "6\n"
          ]
        }
      ]
    },
    {
      "cell_type": "code",
      "source": [],
      "metadata": {
        "id": "78mZYM_JLlzj"
      },
      "execution_count": null,
      "outputs": []
    }
  ]
}