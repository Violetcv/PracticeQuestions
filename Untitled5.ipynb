{
  "nbformat": 4,
  "nbformat_minor": 0,
  "metadata": {
    "colab": {
      "provenance": []
    },
    "kernelspec": {
      "name": "python3",
      "display_name": "Python 3"
    },
    "language_info": {
      "name": "python"
    }
  },
  "cells": [
    {
      "cell_type": "code",
      "execution_count": 1,
      "metadata": {
        "colab": {
          "base_uri": "https://localhost:8080/",
          "height": 0
        },
        "id": "FYMZgW8xxETq",
        "outputId": "5a8bf165-3ba4-489f-e035-c99604b88a58"
      },
      "outputs": [
        {
          "output_type": "stream",
          "name": "stdout",
          "text": [
            "Enter your string:the quick brown fox jumps over the lazy dog.\n",
            "Enter your substring:the\n",
            "[0, 31]\n"
          ]
        }
      ],
      "source": [
        "#Q1\n",
        "#Define Functon\n",
        "def findSubstringPositions(mainString, substring):\n",
        "    positions = []\n",
        "    start = 0\n",
        "    while True:\n",
        "        start = mainString.find(substring, start)\n",
        "        if start == -1:\n",
        "            return positions\n",
        "        positions.append(start)\n",
        "        start += 1\n",
        "#call function\n",
        "string1=input(\"Enter your string:\")\n",
        "substring1=input(\"Enter your substring:\")\n",
        "positions = findSubstringPositions(string1, substring1)\n",
        "print(positions)\n"
      ]
    },
    {
      "cell_type": "code",
      "source": [
        "#Q2\n",
        "#Define Function\n",
        "def startsWithLetter(string: str, letter: str) -> bool:\n",
        "    return string.startswith(letter)\n",
        "#call function\n",
        "string= \"good morning! india!\"\n",
        "letter= \"g\"\n",
        "result= startsWithLetter(string,letter)\n",
        "print(result)"
      ],
      "metadata": {
        "colab": {
          "base_uri": "https://localhost:8080/",
          "height": 0
        },
        "id": "D4Ac4_A513Co",
        "outputId": "0af5599b-3e41-4421-dc72-0418dc0bbe5c"
      },
      "execution_count": 5,
      "outputs": [
        {
          "output_type": "stream",
          "name": "stdout",
          "text": [
            "True\n"
          ]
        }
      ]
    },
    {
      "cell_type": "code",
      "source": [
        "#Q3\n",
        "#Define Function\n",
        "def endsWithLetter(string: str, letter: str) -> bool:\n",
        "    return string.endswith(letter)\n",
        "#call function\n",
        "string= \"good morning! india!\"\n",
        "letter= \"!\"\n",
        "result= endsWithLetter(string,letter)\n",
        "print(result)"
      ],
      "metadata": {
        "colab": {
          "base_uri": "https://localhost:8080/",
          "height": 0
        },
        "id": "Lo_bM-gRbmbo",
        "outputId": "121aa3b5-72eb-4a1a-ec24-2d7ed7ebdc85"
      },
      "execution_count": 8,
      "outputs": [
        {
          "output_type": "stream",
          "name": "stdout",
          "text": [
            "True\n"
          ]
        }
      ]
    },
    {
      "cell_type": "code",
      "source": [
        "#Q4\n",
        "decimal = int(input(\"Enter a decimal number: \"))\n",
        "\n",
        "# convert to binary\n",
        "binary = bin(decimal)\n",
        "print(\"Binary:\", binary)\n",
        "\n",
        "# convert to octal\n",
        "octal = oct(decimal)\n",
        "print(\"Octal:\", octal)\n",
        "\n",
        "# convert to hexadecimal\n",
        "hexadecimal = hex(decimal)\n",
        "print(\"Hexadecimal:\", hexadecimal)\n"
      ],
      "metadata": {
        "colab": {
          "base_uri": "https://localhost:8080/",
          "height": 0
        },
        "id": "DQ6fYK6ttOv2",
        "outputId": "655cb054-120d-4f8f-96c0-901f6ac4858b"
      },
      "execution_count": 10,
      "outputs": [
        {
          "output_type": "stream",
          "name": "stdout",
          "text": [
            "Enter a decimal number: 5\n",
            "Binary: 0b101\n",
            "Octal: 0o5\n",
            "Hexadecimal: 0x5\n"
          ]
        }
      ]
    },
    {
      "cell_type": "code",
      "source": [
        "#Q5\n",
        "def reverseInternalContent(string: str) -> str:\n",
        "    words = string.split()\n",
        "    reversed_words = [word[::-1] for word in words]\n",
        "    return ' '.join(reversed_words)\n",
        "#cal\n",
        "string1 = input(\"Enter a String: \")\n",
        "result = reverseInternalContent(string1)\n",
        "print(result)"
      ],
      "metadata": {
        "colab": {
          "base_uri": "https://localhost:8080/",
          "height": 0
        },
        "id": "Z8A2ZpYhtXWY",
        "outputId": "84e8784b-219a-45cc-f380-2c248553daae"
      },
      "execution_count": 11,
      "outputs": [
        {
          "output_type": "stream",
          "name": "stdout",
          "text": [
            "Enter a String: hello world\n",
            "olleh dlrow\n"
          ]
        }
      ]
    },
    {
      "cell_type": "code",
      "source": [
        "#Q6\n",
        "#define\n",
        "def mergeStrings(string1: str, string2: str) -> str:\n",
        "    result = \"\"\n",
        "    for c1, c2 in zip(string1, string2):\n",
        "        result += c1\n",
        "        result += c2\n",
        "    return result\n",
        "#call\n",
        "string1 = input(\"Enter a string:\")\n",
        "string2 = input(\"Enter another string:\")\n",
        "result = mergeStrings(string1, string2)\n",
        "print(result) "
      ],
      "metadata": {
        "colab": {
          "base_uri": "https://localhost:8080/",
          "height": 0
        },
        "id": "vPGfOij8uETv",
        "outputId": "be79c087-a6d2-4ad6-afa8-0a55fd032c8e"
      },
      "execution_count": 14,
      "outputs": [
        {
          "output_type": "stream",
          "name": "stdout",
          "text": [
            "Enter a string:hpies\n",
            "Enter another string:apns\n",
            "happines\n"
          ]
        }
      ]
    },
    {
      "cell_type": "code",
      "source": [
        "#Q7\n",
        "#define func\n",
        "def expandString(string: str) -> str:\n",
        "    result = \"\"\n",
        "    i = 0\n",
        "    while i < len(string):\n",
        "        current_char = string[i]\n",
        "        if current_char.isalpha():\n",
        "            count = int(string[i+1])\n",
        "            result += current_char * count\n",
        "            i += 2\n",
        "        else:\n",
        "            i += 1\n",
        "    return result\n",
        "\n",
        "#input and call\n",
        "string1 = input(\"Enter a string:\")\n",
        "result = expandString(string1)\n",
        "print(result)"
      ],
      "metadata": {
        "colab": {
          "base_uri": "https://localhost:8080/",
          "height": 0
        },
        "id": "5J32i5uGwapW",
        "outputId": "94b212fa-2723-4b0a-8fc7-ba493f73b221"
      },
      "execution_count": 15,
      "outputs": [
        {
          "output_type": "stream",
          "name": "stdout",
          "text": [
            "Enter a string:a2b3c4d5e6\n",
            "aabbbccccdddddeeeeee\n"
          ]
        }
      ]
    }
  ]
}